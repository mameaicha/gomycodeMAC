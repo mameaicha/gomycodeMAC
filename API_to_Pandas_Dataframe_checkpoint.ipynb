{
  "nbformat": 4,
  "nbformat_minor": 0,
  "metadata": {
    "colab": {
      "provenance": [],
      "authorship_tag": "ABX9TyO1bLFU9/ygMFNL6QOqeRFX",
      "include_colab_link": true
    },
    "kernelspec": {
      "name": "python3",
      "display_name": "Python 3"
    },
    "language_info": {
      "name": "python"
    }
  },
  "cells": [
    {
      "cell_type": "markdown",
      "metadata": {
        "id": "view-in-github",
        "colab_type": "text"
      },
      "source": [
        "<a href=\"https://colab.research.google.com/github/mameaicha/gomycodeMAC/blob/main/API_to_Pandas_Dataframe_checkpoint.ipynb\" target=\"_parent\"><img src=\"https://colab.research.google.com/assets/colab-badge.svg\" alt=\"Open In Colab\"/></a>"
      ]
    },
    {
      "cell_type": "markdown",
      "source": [
        "#1. Go to the OMDb API website (https://www.omdbapi.com/apikey.aspx) and obtain an API key."
      ],
      "metadata": {
        "id": "uJp8vUGQs-1c"
      }
    },
    {
      "cell_type": "markdown",
      "source": [
        "# 2. Install the requests and pandas libraries if you have not already done so."
      ],
      "metadata": {
        "id": "BwmdBqH2uZ-F"
      }
    },
    {
      "cell_type": "markdown",
      "source": [
        "# 3. Use the requests library to send a request to the OMDb API to retrieve data about the top 10 movies."
      ],
      "metadata": {
        "id": "dbc9bHiTvFCe"
      }
    },
    {
      "cell_type": "code",
      "source": [
        "import requests"
      ],
      "metadata": {
        "id": "bQiCacdluyGL"
      },
      "execution_count": 1,
      "outputs": []
    },
    {
      "cell_type": "code",
      "source": [
        "api_url = \"http://www.omdbapi.com/?i=tt3896198&apikey=7a80b9b8\"\n",
        "response = requests.get(api_url)\n",
        "\n"
      ],
      "metadata": {
        "id": "jjRSLX230Y6x"
      },
      "execution_count": 19,
      "outputs": []
    },
    {
      "cell_type": "markdown",
      "source": [
        "# 4. Parse the data using the json library to extract the title, year, director, and rating for each movie."
      ],
      "metadata": {
        "id": "a-wFGzig3kOJ"
      }
    },
    {
      "cell_type": "code",
      "source": [
        "data=response.json()"
      ],
      "metadata": {
        "id": "7r0aeVSi5_8Z"
      },
      "execution_count": 20,
      "outputs": []
    },
    {
      "cell_type": "markdown",
      "source": [
        "# 5. Store the extracted data in a pandas dataframe with appropriate column names."
      ],
      "metadata": {
        "id": "whskPdy6699M"
      }
    },
    {
      "cell_type": "code",
      "source": [
        "import pandas as pd\n",
        "df = pd.DataFrame(data, columns=['Title', 'Year', 'Rated', 'Released','Runtime','Genre','Director','Writer','Actors','Plot','Language','Country','Awards','Poster','Ratings','Metascore','imdbRating','imdbVotes','imdbID','Type','DVD','BoxOffice','Production','Website','Response'])"
      ],
      "metadata": {
        "id": "IY0JWCw57D9z"
      },
      "execution_count": 13,
      "outputs": []
    },
    {
      "cell_type": "markdown",
      "source": [
        "# 6. Print the dataframe to verify that the data has been successfully stored."
      ],
      "metadata": {
        "id": "udULyxqRAXzq"
      }
    },
    {
      "cell_type": "code",
      "source": [
        "df.head()"
      ],
      "metadata": {
        "colab": {
          "base_uri": "https://localhost:8080/",
          "height": 497
        },
        "id": "s9f_ahDp-Pad",
        "outputId": "64f0947c-3305-4b13-e6c3-121a578c290a"
      },
      "execution_count": 22,
      "outputs": [
        {
          "output_type": "execute_result",
          "data": {
            "text/plain": [
              "                            Title  Year  Rated     Released  Runtime  \\\n",
              "0  Guardians of the Galaxy Vol. 2  2017  PG-13  05 May 2017  136 min   \n",
              "1  Guardians of the Galaxy Vol. 2  2017  PG-13  05 May 2017  136 min   \n",
              "2  Guardians of the Galaxy Vol. 2  2017  PG-13  05 May 2017  136 min   \n",
              "\n",
              "                       Genre    Director  \\\n",
              "0  Action, Adventure, Comedy  James Gunn   \n",
              "1  Action, Adventure, Comedy  James Gunn   \n",
              "2  Action, Adventure, Comedy  James Gunn   \n",
              "\n",
              "                                 Writer  \\\n",
              "0  James Gunn, Dan Abnett, Andy Lanning   \n",
              "1  James Gunn, Dan Abnett, Andy Lanning   \n",
              "2  James Gunn, Dan Abnett, Andy Lanning   \n",
              "\n",
              "                                    Actors  \\\n",
              "0  Chris Pratt, Zoe Saldana, Dave Bautista   \n",
              "1  Chris Pratt, Zoe Saldana, Dave Bautista   \n",
              "2  Chris Pratt, Zoe Saldana, Dave Bautista   \n",
              "\n",
              "                                                Plot  ... Metascore  \\\n",
              "0  The Guardians struggle to keep together as a t...  ...        67   \n",
              "1  The Guardians struggle to keep together as a t...  ...        67   \n",
              "2  The Guardians struggle to keep together as a t...  ...        67   \n",
              "\n",
              "  imdbRating imdbVotes     imdbID   Type          DVD     BoxOffice  \\\n",
              "0        7.6   725,527  tt3896198  movie  22 Aug 2017  $389,813,101   \n",
              "1        7.6   725,527  tt3896198  movie  22 Aug 2017  $389,813,101   \n",
              "2        7.6   725,527  tt3896198  movie  22 Aug 2017  $389,813,101   \n",
              "\n",
              "  Production Website Response  \n",
              "0        N/A     N/A     True  \n",
              "1        N/A     N/A     True  \n",
              "2        N/A     N/A     True  \n",
              "\n",
              "[3 rows x 25 columns]"
            ],
            "text/html": [
              "\n",
              "\n",
              "  <div id=\"df-90525b9f-17fd-4d96-b0fe-831f7c244a83\">\n",
              "    <div class=\"colab-df-container\">\n",
              "      <div>\n",
              "<style scoped>\n",
              "    .dataframe tbody tr th:only-of-type {\n",
              "        vertical-align: middle;\n",
              "    }\n",
              "\n",
              "    .dataframe tbody tr th {\n",
              "        vertical-align: top;\n",
              "    }\n",
              "\n",
              "    .dataframe thead th {\n",
              "        text-align: right;\n",
              "    }\n",
              "</style>\n",
              "<table border=\"1\" class=\"dataframe\">\n",
              "  <thead>\n",
              "    <tr style=\"text-align: right;\">\n",
              "      <th></th>\n",
              "      <th>Title</th>\n",
              "      <th>Year</th>\n",
              "      <th>Rated</th>\n",
              "      <th>Released</th>\n",
              "      <th>Runtime</th>\n",
              "      <th>Genre</th>\n",
              "      <th>Director</th>\n",
              "      <th>Writer</th>\n",
              "      <th>Actors</th>\n",
              "      <th>Plot</th>\n",
              "      <th>...</th>\n",
              "      <th>Metascore</th>\n",
              "      <th>imdbRating</th>\n",
              "      <th>imdbVotes</th>\n",
              "      <th>imdbID</th>\n",
              "      <th>Type</th>\n",
              "      <th>DVD</th>\n",
              "      <th>BoxOffice</th>\n",
              "      <th>Production</th>\n",
              "      <th>Website</th>\n",
              "      <th>Response</th>\n",
              "    </tr>\n",
              "  </thead>\n",
              "  <tbody>\n",
              "    <tr>\n",
              "      <th>0</th>\n",
              "      <td>Guardians of the Galaxy Vol. 2</td>\n",
              "      <td>2017</td>\n",
              "      <td>PG-13</td>\n",
              "      <td>05 May 2017</td>\n",
              "      <td>136 min</td>\n",
              "      <td>Action, Adventure, Comedy</td>\n",
              "      <td>James Gunn</td>\n",
              "      <td>James Gunn, Dan Abnett, Andy Lanning</td>\n",
              "      <td>Chris Pratt, Zoe Saldana, Dave Bautista</td>\n",
              "      <td>The Guardians struggle to keep together as a t...</td>\n",
              "      <td>...</td>\n",
              "      <td>67</td>\n",
              "      <td>7.6</td>\n",
              "      <td>725,527</td>\n",
              "      <td>tt3896198</td>\n",
              "      <td>movie</td>\n",
              "      <td>22 Aug 2017</td>\n",
              "      <td>$389,813,101</td>\n",
              "      <td>N/A</td>\n",
              "      <td>N/A</td>\n",
              "      <td>True</td>\n",
              "    </tr>\n",
              "    <tr>\n",
              "      <th>1</th>\n",
              "      <td>Guardians of the Galaxy Vol. 2</td>\n",
              "      <td>2017</td>\n",
              "      <td>PG-13</td>\n",
              "      <td>05 May 2017</td>\n",
              "      <td>136 min</td>\n",
              "      <td>Action, Adventure, Comedy</td>\n",
              "      <td>James Gunn</td>\n",
              "      <td>James Gunn, Dan Abnett, Andy Lanning</td>\n",
              "      <td>Chris Pratt, Zoe Saldana, Dave Bautista</td>\n",
              "      <td>The Guardians struggle to keep together as a t...</td>\n",
              "      <td>...</td>\n",
              "      <td>67</td>\n",
              "      <td>7.6</td>\n",
              "      <td>725,527</td>\n",
              "      <td>tt3896198</td>\n",
              "      <td>movie</td>\n",
              "      <td>22 Aug 2017</td>\n",
              "      <td>$389,813,101</td>\n",
              "      <td>N/A</td>\n",
              "      <td>N/A</td>\n",
              "      <td>True</td>\n",
              "    </tr>\n",
              "    <tr>\n",
              "      <th>2</th>\n",
              "      <td>Guardians of the Galaxy Vol. 2</td>\n",
              "      <td>2017</td>\n",
              "      <td>PG-13</td>\n",
              "      <td>05 May 2017</td>\n",
              "      <td>136 min</td>\n",
              "      <td>Action, Adventure, Comedy</td>\n",
              "      <td>James Gunn</td>\n",
              "      <td>James Gunn, Dan Abnett, Andy Lanning</td>\n",
              "      <td>Chris Pratt, Zoe Saldana, Dave Bautista</td>\n",
              "      <td>The Guardians struggle to keep together as a t...</td>\n",
              "      <td>...</td>\n",
              "      <td>67</td>\n",
              "      <td>7.6</td>\n",
              "      <td>725,527</td>\n",
              "      <td>tt3896198</td>\n",
              "      <td>movie</td>\n",
              "      <td>22 Aug 2017</td>\n",
              "      <td>$389,813,101</td>\n",
              "      <td>N/A</td>\n",
              "      <td>N/A</td>\n",
              "      <td>True</td>\n",
              "    </tr>\n",
              "  </tbody>\n",
              "</table>\n",
              "<p>3 rows × 25 columns</p>\n",
              "</div>\n",
              "      <button class=\"colab-df-convert\" onclick=\"convertToInteractive('df-90525b9f-17fd-4d96-b0fe-831f7c244a83')\"\n",
              "              title=\"Convert this dataframe to an interactive table.\"\n",
              "              style=\"display:none;\">\n",
              "\n",
              "  <svg xmlns=\"http://www.w3.org/2000/svg\" height=\"24px\"viewBox=\"0 0 24 24\"\n",
              "       width=\"24px\">\n",
              "    <path d=\"M0 0h24v24H0V0z\" fill=\"none\"/>\n",
              "    <path d=\"M18.56 5.44l.94 2.06.94-2.06 2.06-.94-2.06-.94-.94-2.06-.94 2.06-2.06.94zm-11 1L8.5 8.5l.94-2.06 2.06-.94-2.06-.94L8.5 2.5l-.94 2.06-2.06.94zm10 10l.94 2.06.94-2.06 2.06-.94-2.06-.94-.94-2.06-.94 2.06-2.06.94z\"/><path d=\"M17.41 7.96l-1.37-1.37c-.4-.4-.92-.59-1.43-.59-.52 0-1.04.2-1.43.59L10.3 9.45l-7.72 7.72c-.78.78-.78 2.05 0 2.83L4 21.41c.39.39.9.59 1.41.59.51 0 1.02-.2 1.41-.59l7.78-7.78 2.81-2.81c.8-.78.8-2.07 0-2.86zM5.41 20L4 18.59l7.72-7.72 1.47 1.35L5.41 20z\"/>\n",
              "  </svg>\n",
              "      </button>\n",
              "\n",
              "\n",
              "\n",
              "    <div id=\"df-f004df6e-b267-456e-9484-84cd09409bee\">\n",
              "      <button class=\"colab-df-quickchart\" onclick=\"quickchart('df-f004df6e-b267-456e-9484-84cd09409bee')\"\n",
              "              title=\"Suggest charts.\"\n",
              "              style=\"display:none;\">\n",
              "\n",
              "<svg xmlns=\"http://www.w3.org/2000/svg\" height=\"24px\"viewBox=\"0 0 24 24\"\n",
              "     width=\"24px\">\n",
              "    <g>\n",
              "        <path d=\"M19 3H5c-1.1 0-2 .9-2 2v14c0 1.1.9 2 2 2h14c1.1 0 2-.9 2-2V5c0-1.1-.9-2-2-2zM9 17H7v-7h2v7zm4 0h-2V7h2v10zm4 0h-2v-4h2v4z\"/>\n",
              "    </g>\n",
              "</svg>\n",
              "      </button>\n",
              "    </div>\n",
              "\n",
              "<style>\n",
              "  .colab-df-quickchart {\n",
              "    background-color: #E8F0FE;\n",
              "    border: none;\n",
              "    border-radius: 50%;\n",
              "    cursor: pointer;\n",
              "    display: none;\n",
              "    fill: #1967D2;\n",
              "    height: 32px;\n",
              "    padding: 0 0 0 0;\n",
              "    width: 32px;\n",
              "  }\n",
              "\n",
              "  .colab-df-quickchart:hover {\n",
              "    background-color: #E2EBFA;\n",
              "    box-shadow: 0px 1px 2px rgba(60, 64, 67, 0.3), 0px 1px 3px 1px rgba(60, 64, 67, 0.15);\n",
              "    fill: #174EA6;\n",
              "  }\n",
              "\n",
              "  [theme=dark] .colab-df-quickchart {\n",
              "    background-color: #3B4455;\n",
              "    fill: #D2E3FC;\n",
              "  }\n",
              "\n",
              "  [theme=dark] .colab-df-quickchart:hover {\n",
              "    background-color: #434B5C;\n",
              "    box-shadow: 0px 1px 3px 1px rgba(0, 0, 0, 0.15);\n",
              "    filter: drop-shadow(0px 1px 2px rgba(0, 0, 0, 0.3));\n",
              "    fill: #FFFFFF;\n",
              "  }\n",
              "</style>\n",
              "\n",
              "    <script>\n",
              "      async function quickchart(key) {\n",
              "        const containerElement = document.querySelector('#' + key);\n",
              "        const charts = await google.colab.kernel.invokeFunction(\n",
              "            'suggestCharts', [key], {});\n",
              "      }\n",
              "    </script>\n",
              "\n",
              "      <script>\n",
              "\n",
              "function displayQuickchartButton(domScope) {\n",
              "  let quickchartButtonEl =\n",
              "    domScope.querySelector('#df-f004df6e-b267-456e-9484-84cd09409bee button.colab-df-quickchart');\n",
              "  quickchartButtonEl.style.display =\n",
              "    google.colab.kernel.accessAllowed ? 'block' : 'none';\n",
              "}\n",
              "\n",
              "        displayQuickchartButton(document);\n",
              "      </script>\n",
              "      <style>\n",
              "    .colab-df-container {\n",
              "      display:flex;\n",
              "      flex-wrap:wrap;\n",
              "      gap: 12px;\n",
              "    }\n",
              "\n",
              "    .colab-df-convert {\n",
              "      background-color: #E8F0FE;\n",
              "      border: none;\n",
              "      border-radius: 50%;\n",
              "      cursor: pointer;\n",
              "      display: none;\n",
              "      fill: #1967D2;\n",
              "      height: 32px;\n",
              "      padding: 0 0 0 0;\n",
              "      width: 32px;\n",
              "    }\n",
              "\n",
              "    .colab-df-convert:hover {\n",
              "      background-color: #E2EBFA;\n",
              "      box-shadow: 0px 1px 2px rgba(60, 64, 67, 0.3), 0px 1px 3px 1px rgba(60, 64, 67, 0.15);\n",
              "      fill: #174EA6;\n",
              "    }\n",
              "\n",
              "    [theme=dark] .colab-df-convert {\n",
              "      background-color: #3B4455;\n",
              "      fill: #D2E3FC;\n",
              "    }\n",
              "\n",
              "    [theme=dark] .colab-df-convert:hover {\n",
              "      background-color: #434B5C;\n",
              "      box-shadow: 0px 1px 3px 1px rgba(0, 0, 0, 0.15);\n",
              "      filter: drop-shadow(0px 1px 2px rgba(0, 0, 0, 0.3));\n",
              "      fill: #FFFFFF;\n",
              "    }\n",
              "  </style>\n",
              "\n",
              "      <script>\n",
              "        const buttonEl =\n",
              "          document.querySelector('#df-90525b9f-17fd-4d96-b0fe-831f7c244a83 button.colab-df-convert');\n",
              "        buttonEl.style.display =\n",
              "          google.colab.kernel.accessAllowed ? 'block' : 'none';\n",
              "\n",
              "        async function convertToInteractive(key) {\n",
              "          const element = document.querySelector('#df-90525b9f-17fd-4d96-b0fe-831f7c244a83');\n",
              "          const dataTable =\n",
              "            await google.colab.kernel.invokeFunction('convertToInteractive',\n",
              "                                                     [key], {});\n",
              "          if (!dataTable) return;\n",
              "\n",
              "          const docLinkHtml = 'Like what you see? Visit the ' +\n",
              "            '<a target=\"_blank\" href=https://colab.research.google.com/notebooks/data_table.ipynb>data table notebook</a>'\n",
              "            + ' to learn more about interactive tables.';\n",
              "          element.innerHTML = '';\n",
              "          dataTable['output_type'] = 'display_data';\n",
              "          await google.colab.output.renderOutput(dataTable, element);\n",
              "          const docLink = document.createElement('div');\n",
              "          docLink.innerHTML = docLinkHtml;\n",
              "          element.appendChild(docLink);\n",
              "        }\n",
              "      </script>\n",
              "    </div>\n",
              "  </div>\n"
            ]
          },
          "metadata": {},
          "execution_count": 22
        }
      ]
    }
  ]
}