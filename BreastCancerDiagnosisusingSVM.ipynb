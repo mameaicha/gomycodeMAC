{
  "nbformat": 4,
  "nbformat_minor": 0,
  "metadata": {
    "colab": {
      "provenance": [],
      "authorship_tag": "ABX9TyPUw8gMBjJsTPfLGSH1x+Wc",
      "include_colab_link": true
    },
    "kernelspec": {
      "name": "python3",
      "display_name": "Python 3"
    },
    "language_info": {
      "name": "python"
    }
  },
  "cells": [
    {
      "cell_type": "markdown",
      "metadata": {
        "id": "view-in-github",
        "colab_type": "text"
      },
      "source": [
        "<a href=\"https://colab.research.google.com/github/mameaicha/gomycodeMAC/blob/main/BreastCancerDiagnosisusingSVM.ipynb\" target=\"_parent\"><img src=\"https://colab.research.google.com/assets/colab-badge.svg\" alt=\"Open In Colab\"/></a>"
      ]
    },
    {
      "cell_type": "markdown",
      "source": [
        "#Objective:\n",
        "Breast Cancer Diagnosis using SVM\n",
        "\n",
        "# Description:\n",
        " In this exercise, we will use the Support Vector Machine (SVM) algorithm to diagnose breast cancer using the breast cancer dataset provided by scikit-learn. SVM is a supervised learning algorithm that is commonly used for classification tasks.\n",
        "\n",
        "#Statement:\n",
        " We will load the breast cancer dataset, split it into training and test sets, create an SVM model, fit it to the training set, predict the target variable using the test set, and finally calculate the accuracy and confusion matrix.\n",
        "\n",
        " # Instructions:"
      ],
      "metadata": {
        "id": "4kdlbb4kik1K"
      }
    },
    {
      "cell_type": "markdown",
      "source": [
        "## 1. Import the necessary libraries: numpy, pandas, scikit-learn's load_breast_cancer, train_test_split, confusion_matrix, accuracy_score, and svm"
      ],
      "metadata": {
        "id": "TVO1FZpkjSd3"
      }
    },
    {
      "cell_type": "code",
      "execution_count": 2,
      "metadata": {
        "id": "k2hNIZWuiZIa"
      },
      "outputs": [],
      "source": [
        "import pandas as pd\n",
        "import numpy as np\n",
        "import plotly.express as px\n",
        "import seaborn as sns\n",
        "import matplotlib.pyplot as plt\n",
        "\n",
        "from sklearn import svm\n",
        "\n",
        "from sklearn.datasets import load_breast_cancer\n",
        "\n",
        "# Modelling Helpers\n",
        "\n",
        "from sklearn.model_selection import train_test_split\n",
        "\n",
        "#from sklearn import metrics\n",
        "from sklearn.metrics import accuracy_score, confusion_matrix, ConfusionMatrixDisplay, classification_report\n"
      ]
    },
    {
      "cell_type": "markdown",
      "source": [
        "## 2. Load the breast cancer dataset using load_breast_cancer() function."
      ],
      "metadata": {
        "id": "rogNQkcunA62"
      }
    },
    {
      "cell_type": "code",
      "source": [
        "data = load_breast_cancer()"
      ],
      "metadata": {
        "id": "rYPcmKs5nFzL"
      },
      "execution_count": 6,
      "outputs": []
    },
    {
      "cell_type": "markdown",
      "source": [
        "## 3. Prepare the data by assigning features to dataset.data and target variables to dataset.target."
      ],
      "metadata": {
        "id": "6mcWpjJKmfea"
      }
    },
    {
      "cell_type": "code",
      "source": [
        "X, y = data.data, data.target"
      ],
      "metadata": {
        "id": "dGAwYdXAmju9"
      },
      "execution_count": 7,
      "outputs": []
    },
    {
      "cell_type": "markdown",
      "source": [
        "## 4. Split dataset into training and test sets"
      ],
      "metadata": {
        "id": "bMptTqYumxHN"
      }
    },
    {
      "cell_type": "code",
      "source": [
        "\n",
        "X_train, X_test, y_train, y_test = train_test_split(X, y, random_state=42)"
      ],
      "metadata": {
        "id": "eBCM8UUol1_R"
      },
      "execution_count": 8,
      "outputs": []
    },
    {
      "cell_type": "markdown",
      "source": [
        "## 5.  Create SVM model"
      ],
      "metadata": {
        "id": "WozZlnpqm01C"
      }
    },
    {
      "cell_type": "code",
      "source": [
        "model= svm.SVC()\n"
      ],
      "metadata": {
        "id": "2QVDz4SCns6I"
      },
      "execution_count": 9,
      "outputs": []
    },
    {
      "cell_type": "markdown",
      "source": [
        "## 6. Fit model to training set"
      ],
      "metadata": {
        "id": "gZw2tnq6n1j4"
      }
    },
    {
      "cell_type": "code",
      "source": [
        "fittied_model=model.fit(X_train, y_train)\n"
      ],
      "metadata": {
        "id": "VbAFEnvvn7xE"
      },
      "execution_count": 10,
      "outputs": []
    },
    {
      "cell_type": "markdown",
      "source": [
        "## 7. Predict target variable using test set"
      ],
      "metadata": {
        "id": "DSFdR6UEoMJP"
      }
    },
    {
      "cell_type": "code",
      "source": [
        "prediction=fittied_model.predict(X_test)"
      ],
      "metadata": {
        "id": "ur2_09mZonYX"
      },
      "execution_count": 13,
      "outputs": []
    },
    {
      "cell_type": "markdown",
      "source": [
        "## 8. Calculate accuracy and confusion matrix"
      ],
      "metadata": {
        "id": "MzYxXWJ2pSSj"
      }
    },
    {
      "cell_type": "code",
      "source": [
        "acc= accuracy_score( y_test,prediction)\n",
        "conf_mat= confusion_matrix ( y_test,prediction)"
      ],
      "metadata": {
        "id": "JAmHgbn5pvbv"
      },
      "execution_count": 14,
      "outputs": []
    },
    {
      "cell_type": "markdown",
      "source": [
        "## 9. Print accuracy and confusion matrix"
      ],
      "metadata": {
        "id": "nuVTe-1eqbwn"
      }
    },
    {
      "cell_type": "code",
      "source": [
        "acc"
      ],
      "metadata": {
        "colab": {
          "base_uri": "https://localhost:8080/"
        },
        "id": "nvnHWtyzqkAv",
        "outputId": "a35534d7-7ae7-48aa-bf55-281e82b6bf98"
      },
      "execution_count": 15,
      "outputs": [
        {
          "output_type": "execute_result",
          "data": {
            "text/plain": [
              "0.951048951048951"
            ]
          },
          "metadata": {},
          "execution_count": 15
        }
      ]
    },
    {
      "cell_type": "code",
      "source": [
        "conf_mat"
      ],
      "metadata": {
        "colab": {
          "base_uri": "https://localhost:8080/"
        },
        "id": "nkGVhyRpqlOQ",
        "outputId": "29194976-6df6-4871-b1d2-6099a36830f8"
      },
      "execution_count": 16,
      "outputs": [
        {
          "output_type": "execute_result",
          "data": {
            "text/plain": [
              "array([[48,  6],\n",
              "       [ 1, 88]])"
            ]
          },
          "metadata": {},
          "execution_count": 16
        }
      ]
    }
  ]
}