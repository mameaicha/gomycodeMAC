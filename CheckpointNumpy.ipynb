{
  "nbformat": 4,
  "nbformat_minor": 0,
  "metadata": {
    "colab": {
      "provenance": [],
      "authorship_tag": "ABX9TyMTTLuAnEKTt4hdPL/YFWXH",
      "include_colab_link": true
    },
    "kernelspec": {
      "name": "python3",
      "display_name": "Python 3"
    },
    "language_info": {
      "name": "python"
    }
  },
  "cells": [
    {
      "cell_type": "markdown",
      "metadata": {
        "id": "view-in-github",
        "colab_type": "text"
      },
      "source": [
        "<a href=\"https://colab.research.google.com/github/mameaicha/gomycodeMAC/blob/main/CheckpointNumpy.ipynb\" target=\"_parent\"><img src=\"https://colab.research.google.com/assets/colab-badge.svg\" alt=\"Open In Colab\"/></a>"
      ]
    },
    {
      "cell_type": "markdown",
      "source": [
        "1. Write a Python program to convert an array to an ordinary list with the same items.\n",
        "\n",
        "\n"
      ],
      "metadata": {
        "id": "hGNw2T8LEkxD"
      }
    },
    {
      "cell_type": "code",
      "source": [
        "import numpy as np\n",
        "\n",
        "def arrayToList(a):\n",
        "  \"\"\"convert an array to an ordinary list \"\"\"\n",
        "  r1=a.flatten().tolist() #fonctionne sur une copie du tableau, donc plus rapide et occupe moins de mémoire\n",
        "  r2=a.ravel().tolist() #renvoie une vue de référence du tableau et affecte le tableau d’origine\n",
        "  print(r1)\n",
        "  print(r2)\n",
        "\n",
        "# oubien\n",
        "def arrayToList2(a):\n",
        "  \"\"\"convert an array to an ordinary list \"\"\"\n",
        "  l = []\n",
        "  for x in a:\n",
        "    l.append(x)\n",
        "  print(l)\n",
        "\n",
        "oned = np.array([[1,2,3]])\n",
        "twod = np.array([[1,2,3],[4,5,6]])\n",
        "\n",
        "arrayToList(oned)\n",
        "arrayToList(twod)\n",
        "\n",
        "arrayToList2(oned)\n",
        "arrayToList2(twod)\n",
        "\n",
        "\n"
      ],
      "metadata": {
        "colab": {
          "base_uri": "https://localhost:8080/"
        },
        "id": "vvXsvRtKFmjb",
        "outputId": "604f4d43-57af-4347-a5dd-90b1386126f3"
      },
      "execution_count": 2,
      "outputs": [
        {
          "output_type": "stream",
          "name": "stdout",
          "text": [
            "[1, 2, 3]\n",
            "[1, 2, 3]\n",
            "[1, 2, 3, 4, 5, 6]\n",
            "[1, 2, 3, 4, 5, 6]\n",
            "[array([1, 2, 3])]\n",
            "[array([1, 2, 3]), array([4, 5, 6])]\n"
          ]
        }
      ]
    },
    {
      "cell_type": "markdown",
      "source": [
        "2. Write a NumPy program to compute the sum of the diagonal element of a given array."
      ],
      "metadata": {
        "id": "yXYvKmBGE0a3"
      }
    },
    {
      "cell_type": "code",
      "source": [
        "def computDaig(a):\n",
        "  \"\"\"compute the sum of the diagonal element of a given array\"\"\"\n",
        "  dim=np.shape(a)\n",
        "  if a.ndim==1 :\n",
        "    print(\"c'est un tableau de dimension 1D donc pas de diagnole\")\n",
        "  else:\n",
        "     som=0\n",
        "     for i in range(dim[0]):\n",
        "        for j in range(dim[1]):\n",
        "           if (i==j):\n",
        "              som=som+a[i,j]\n",
        "     print(\"la somme des element de la diag est:\", som)\n",
        "\n",
        "twod = np.array([[1,2,3],[4,5,6]])\n",
        "\n",
        "computDaig(twod)\n",
        "computDaig(oned)"
      ],
      "metadata": {
        "id": "HBBsYgxFFn0v",
        "colab": {
          "base_uri": "https://localhost:8080/"
        },
        "outputId": "e42ba87c-8b8d-4756-e358-61f37530a39e"
      },
      "execution_count": null,
      "outputs": [
        {
          "output_type": "stream",
          "name": "stdout",
          "text": [
            "la somme des element de la diag est: 6\n",
            "la somme des element de la diag est: 1\n"
          ]
        }
      ]
    },
    {
      "cell_type": "markdown",
      "source": [
        "3. Given an array of your choice, get all the values higher than X :if a = [[1,2],[3,5]] and x = 2 :  then 3 and 5 are higher than 2."
      ],
      "metadata": {
        "id": "nMnitPZ2E2Kl"
      }
    },
    {
      "cell_type": "code",
      "source": [
        "def subtab(a,x):\n",
        "  t=a[a>x]\n",
        "  print(t)\n",
        "  #oubien\n",
        "  #dim=np.shape(a)\n",
        "  #for i in range(dim[0]):\n",
        "    #for j in range(dim[1]):\n",
        "      ## Si la valeur est supérieure à X, on l'affiche\n",
        "      #if (a[i,j] > x):\n",
        "        #print(a[i,j])\n",
        "\n",
        "a =np.array ([[1,2],[3,5]]) \n",
        "x=2\n",
        "subtab(a,x)"
      ],
      "metadata": {
        "id": "bzoznQSVFojt",
        "colab": {
          "base_uri": "https://localhost:8080/"
        },
        "outputId": "1dd5199e-3965-4331-82cf-89c53607bcb9"
      },
      "execution_count": 21,
      "outputs": [
        {
          "output_type": "stream",
          "name": "stdout",
          "text": [
            "[3 5]\n"
          ]
        }
      ]
    },
    {
      "cell_type": "markdown",
      "source": [
        "4. Given two arrays A&B having the same shape. The task is to apply addition of A and B : C is the new array. "
      ],
      "metadata": {
        "id": "bUAcx7S5FFgY"
      }
    },
    {
      "cell_type": "code",
      "execution_count": 22,
      "metadata": {
        "id": "Cazbvd96ES_c"
      },
      "outputs": [],
      "source": [
        "def addition(A,B):\n",
        "  if np.shape(A)==np.shape(B):\n",
        "    C=A+B\n",
        "    print(\"la somme des deux matrice est:\", C)\n",
        "  else:\n",
        "    print(\"les deux tableau n'ont pas les meme dimensions\")\n",
        "  "
      ]
    },
    {
      "cell_type": "code",
      "source": [
        "A = np. array ([[1 , 2 , 3 , 4] , [11 , 12 , 13 , 14] ,\n",
        "[21 , 22 , 23 , 24] , [31 , 32 , 33 , 34]])\n",
        "\n",
        "A1 = np. array ([[1 , 2 , 3 , 4] , [11 , 12 , 13 , 14] ,\n",
        "[21 , 22 , 23 , 24]])\n",
        "\n",
        "\n",
        "B = np. array ([[1 , 2 , 3 , 4] , [5 , 6 , 7 , 8] ,\n",
        "[9 , 10 , 11 , 12] , [13 , 14 , 15 , 16]])\n",
        "\n",
        "\n",
        "addition(A,A1)\n",
        "addition(A,B)"
      ],
      "metadata": {
        "id": "phs54GLhYA6m",
        "outputId": "78eaa0c9-ca4e-4ada-9755-42786b0bbdab",
        "colab": {
          "base_uri": "https://localhost:8080/"
        }
      },
      "execution_count": 24,
      "outputs": [
        {
          "output_type": "stream",
          "name": "stdout",
          "text": [
            "les deux tableau n'ont pas les meme dimensions\n",
            "la somme des deux matrice est: [[ 2  4  6  8]\n",
            " [16 18 20 22]\n",
            " [30 32 34 36]\n",
            " [44 46 48 50]]\n"
          ]
        }
      ]
    }
  ]
}