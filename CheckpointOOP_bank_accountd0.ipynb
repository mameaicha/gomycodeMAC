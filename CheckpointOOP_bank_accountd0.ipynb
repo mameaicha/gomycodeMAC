{
  "nbformat": 4,
  "nbformat_minor": 0,
  "metadata": {
    "colab": {
      "provenance": [],
      "authorship_tag": "ABX9TyNsec9MhBDdbtHoFJnUXn6G",
      "include_colab_link": true
    },
    "kernelspec": {
      "name": "python3",
      "display_name": "Python 3"
    },
    "language_info": {
      "name": "python"
    }
  },
  "cells": [
    {
      "cell_type": "markdown",
      "metadata": {
        "id": "view-in-github",
        "colab_type": "text"
      },
      "source": [
        "<a href=\"https://colab.research.google.com/github/mameaicha/gomycodeMAC/blob/main/CheckpointOOP_bank_accountd0.ipynb\" target=\"_parent\"><img src=\"https://colab.research.google.com/assets/colab-badge.svg\" alt=\"Open In Colab\"/></a>"
      ]
    },
    {
      "cell_type": "code",
      "execution_count": 9,
      "metadata": {
        "colab": {
          "base_uri": "https://localhost:8080/"
        },
        "id": "oTHxiqX-Gq5l",
        "outputId": "990ad234-f5b7-4a93-bfbc-bfb454cce929"
      },
      "outputs": [
        {
          "output_type": "stream",
          "name": "stdout",
          "text": [
            "le montant du solde initial est: 1500000\n",
            "le montant du solde apres ajout est: 2000000\n",
            "le montant du solde apres retrait est: 1825000\n"
          ]
        }
      ],
      "source": [
        "class Account:\n",
        "  def __init__(self, account_number,account_balance,account_holder):\n",
        "    self.account_number=account_number\n",
        "    self.account_balance=account_balance\n",
        "    self.account_holder=account_holder\n",
        "  \n",
        "  def deposit(self,amount):\n",
        "    \"\"\" This method should add the amount passed as an argument to the account balance.\"\"\"\n",
        "    self.account_balance=self.account_balance+ amount\n",
        "\n",
        "  def withdraw(self,amount):\n",
        "    \"\"\"This method should subtract the amount passed as an argument from the account balance,\n",
        "     but only if the account balance is greater than the amount being withdrawn \"\"\"\n",
        "    if(self.account_balance >= amount) :\n",
        "      self.account_balance=self.account_balance - amount\n",
        "    else:\n",
        "      print(\"balance is lestter than the amount being withdrawn\")\n",
        "\n",
        "  def check_balance(self):\n",
        "     \"\"\"- This method should return the current account balance.\"\"\"\n",
        "     return self.account_balance\n",
        "\n",
        "\n",
        "\n",
        "if __name__ == '__main__':\n",
        "  \n",
        "  my_account= Account(\"AP008985\",1500000,\"Moussa FALL\")\n",
        "  print(\"le montant du solde initial est:\", my_account.account_balance)\n",
        "  my_account.deposit(500000)\n",
        "  print(\"le montant du solde apres ajout est:\", my_account.account_balance)\n",
        "  my_account.withdraw(175000)\n",
        "  print(\"le montant du solde apres retrait est:\", my_account.account_balance)\n",
        "\n",
        "\n"
      ]
    }
  ]
}