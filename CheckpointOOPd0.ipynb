{
  "nbformat": 4,
  "nbformat_minor": 0,
  "metadata": {
    "colab": {
      "provenance": [],
      "authorship_tag": "ABX9TyNM6eol9zg06zf525cqpgUb",
      "include_colab_link": true
    },
    "kernelspec": {
      "name": "python3",
      "display_name": "Python 3"
    },
    "language_info": {
      "name": "python"
    }
  },
  "cells": [
    {
      "cell_type": "markdown",
      "metadata": {
        "id": "view-in-github",
        "colab_type": "text"
      },
      "source": [
        "<a href=\"https://colab.research.google.com/github/mameaicha/gomycodeMAC/blob/main/CheckpointOOPd0.ipynb\" target=\"_parent\"><img src=\"https://colab.research.google.com/assets/colab-badge.svg\" alt=\"Open In Colab\"/></a>"
      ]
    },
    {
      "cell_type": "code",
      "execution_count": null,
      "metadata": {
        "id": "oTHxiqX-Gq5l"
      },
      "outputs": [],
      "source": [
        "class Account:\n",
        "  def __init__(self, account_number,account_balance,account_holder):\n",
        "    self.account_number=account_number\n",
        "    self.account_balance=account_balance\n",
        "    self.account_holder=account_holder\n",
        "  \n",
        "  def deposit(self,amount):\n",
        "    \"\"\" This method should add the amount passed as an argument to the account balance.\"\"\"\n",
        "    self.account_balance=self.account_balance+self.amount\n",
        "\n",
        "  def withdraw(self,amount):\n",
        "    \"\"\"This method should subtract the amount passed as an argument from the account balance,\n",
        "     but only if the account balance is greater than the amount being withdrawn \"\"\"\n",
        "     if self.account_balance >= self.amount:\n",
        "       self.account_balance=self.account_balance - self.amount\n",
        "      else:\n",
        "        print(\"balance is lestter than the amount being withdrawn\")\n",
        "  def check_balance(self):\n",
        "     \"\"\"- This method should return the current account balance.\"\"\"\n",
        "     return self.account_balance\n",
        "\n"
      ]
    }
  ]
}