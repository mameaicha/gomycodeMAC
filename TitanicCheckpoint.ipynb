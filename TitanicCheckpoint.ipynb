{
 "cells": [
  {
   "cell_type": "code",
   "execution_count": 1,
   "id": "dab0f13e",
   "metadata": {},
   "outputs": [],
   "source": [
    "# Import libraries\n",
    "import numpy as np \n",
    "import pandas as pd\n",
    "from scipy import stats"
   ]
  },
  {
   "cell_type": "code",
   "execution_count": 2,
   "id": "ec6bddd9",
   "metadata": {},
   "outputs": [],
   "source": [
    "# Step 1: Importing the data\n",
    "\n",
    "data = pd.read_csv(\"titanicPassengers.csv\",sep=\";\")\n"
   ]
  },
  {
   "cell_type": "markdown",
   "id": "d1f00661",
   "metadata": {},
   "source": [
    "### Aperçu du data frame"
   ]
  },
  {
   "cell_type": "code",
   "execution_count": 3,
   "id": "8edfc5c9",
   "metadata": {},
   "outputs": [
    {
     "data": {
      "text/plain": [
       "Index(['PassengerId', 'Survived', 'Pclass', 'Name', 'Sex', 'Age', 'SibSp',\n",
       "       'Parch', 'Ticket', 'Fare', 'Cabin', 'Embarked'],\n",
       "      dtype='object')"
      ]
     },
     "execution_count": 3,
     "metadata": {},
     "output_type": "execute_result"
    }
   ],
   "source": [
    "data.columns"
   ]
  },
  {
   "cell_type": "code",
   "execution_count": 4,
   "id": "456bf1f1",
   "metadata": {},
   "outputs": [
    {
     "name": "stdout",
     "output_type": "stream",
     "text": [
      "   PassengerId Survived  Pclass                                         Name  \\\n",
      "0          343       No       2                   Collander, Mr. Erik Gustaf   \n",
      "1           76       No       3                      Moen, Mr. Sigurd Hansen   \n",
      "2          641       No       3                       Jensen, Mr. Hans Peder   \n",
      "3          568       No       3  Palsson, Mrs. Nils (Alma Cornelia Berglund)   \n",
      "4          672       No       1                       Davidson, Mr. Thornton   \n",
      "\n",
      "      Sex   Age  SibSp  Parch      Ticket     Fare  Cabin Embarked  \n",
      "0    male  28.0      0      0      248740  13.0000    NaN        S  \n",
      "1    male  25.0      0      0      348123   7.6500  F G73        S  \n",
      "2    male  20.0      0      0      350050   7.8542    NaN        S  \n",
      "3  female  29.0      0      4      349909  21.0750    NaN        S  \n",
      "4    male  31.0      1      0  F.C. 12750  52.0000    B71        S  \n"
     ]
    }
   ],
   "source": [
    "# Step 2: Exploring the data\n",
    "\n",
    "# Get a quick overview of the data\n",
    "print(data.head())"
   ]
  },
  {
   "cell_type": "code",
   "execution_count": 5,
   "id": "2093ebce",
   "metadata": {},
   "outputs": [
    {
     "data": {
      "text/html": [
       "<div>\n",
       "<style scoped>\n",
       "    .dataframe tbody tr th:only-of-type {\n",
       "        vertical-align: middle;\n",
       "    }\n",
       "\n",
       "    .dataframe tbody tr th {\n",
       "        vertical-align: top;\n",
       "    }\n",
       "\n",
       "    .dataframe thead th {\n",
       "        text-align: right;\n",
       "    }\n",
       "</style>\n",
       "<table border=\"1\" class=\"dataframe\">\n",
       "  <thead>\n",
       "    <tr style=\"text-align: right;\">\n",
       "      <th></th>\n",
       "      <th>PassengerId</th>\n",
       "      <th>Survived</th>\n",
       "      <th>Pclass</th>\n",
       "      <th>Name</th>\n",
       "      <th>Sex</th>\n",
       "      <th>Age</th>\n",
       "      <th>SibSp</th>\n",
       "      <th>Parch</th>\n",
       "      <th>Ticket</th>\n",
       "      <th>Fare</th>\n",
       "      <th>Cabin</th>\n",
       "      <th>Embarked</th>\n",
       "    </tr>\n",
       "  </thead>\n",
       "  <tbody>\n",
       "    <tr>\n",
       "      <th>886</th>\n",
       "      <td>10</td>\n",
       "      <td>Yes</td>\n",
       "      <td>2</td>\n",
       "      <td>Nasser, Mrs. Nicholas (Adele Achem)</td>\n",
       "      <td>female</td>\n",
       "      <td>14.0</td>\n",
       "      <td>1</td>\n",
       "      <td>0</td>\n",
       "      <td>237736</td>\n",
       "      <td>30.0708</td>\n",
       "      <td>NaN</td>\n",
       "      <td>C</td>\n",
       "    </tr>\n",
       "    <tr>\n",
       "      <th>887</th>\n",
       "      <td>61</td>\n",
       "      <td>No</td>\n",
       "      <td>3</td>\n",
       "      <td>Sirayanian, Mr. Orsen</td>\n",
       "      <td>male</td>\n",
       "      <td>22.0</td>\n",
       "      <td>0</td>\n",
       "      <td>0</td>\n",
       "      <td>2669</td>\n",
       "      <td>7.2292</td>\n",
       "      <td>NaN</td>\n",
       "      <td>C</td>\n",
       "    </tr>\n",
       "    <tr>\n",
       "      <th>888</th>\n",
       "      <td>535</td>\n",
       "      <td>No</td>\n",
       "      <td>3</td>\n",
       "      <td>Cacic, Miss. Marija</td>\n",
       "      <td>female</td>\n",
       "      <td>30.0</td>\n",
       "      <td>0</td>\n",
       "      <td>0</td>\n",
       "      <td>315084</td>\n",
       "      <td>8.6625</td>\n",
       "      <td>NaN</td>\n",
       "      <td>S</td>\n",
       "    </tr>\n",
       "    <tr>\n",
       "      <th>889</th>\n",
       "      <td>102</td>\n",
       "      <td>No</td>\n",
       "      <td>3</td>\n",
       "      <td>Petroff, Mr. Pastcho (\"Pentcho\")</td>\n",
       "      <td>male</td>\n",
       "      <td>NaN</td>\n",
       "      <td>0</td>\n",
       "      <td>0</td>\n",
       "      <td>349215</td>\n",
       "      <td>7.8958</td>\n",
       "      <td>NaN</td>\n",
       "      <td>S</td>\n",
       "    </tr>\n",
       "    <tr>\n",
       "      <th>890</th>\n",
       "      <td>428</td>\n",
       "      <td>Yes</td>\n",
       "      <td>2</td>\n",
       "      <td>Phillips, Miss. Kate Florence (\"Mrs Kate Louis...</td>\n",
       "      <td>female</td>\n",
       "      <td>19.0</td>\n",
       "      <td>0</td>\n",
       "      <td>0</td>\n",
       "      <td>250655</td>\n",
       "      <td>26.0000</td>\n",
       "      <td>NaN</td>\n",
       "      <td>S</td>\n",
       "    </tr>\n",
       "  </tbody>\n",
       "</table>\n",
       "</div>"
      ],
      "text/plain": [
       "     PassengerId Survived  Pclass  \\\n",
       "886           10      Yes       2   \n",
       "887           61       No       3   \n",
       "888          535       No       3   \n",
       "889          102       No       3   \n",
       "890          428      Yes       2   \n",
       "\n",
       "                                                  Name     Sex   Age  SibSp  \\\n",
       "886                Nasser, Mrs. Nicholas (Adele Achem)  female  14.0      1   \n",
       "887                              Sirayanian, Mr. Orsen    male  22.0      0   \n",
       "888                                Cacic, Miss. Marija  female  30.0      0   \n",
       "889                   Petroff, Mr. Pastcho (\"Pentcho\")    male   NaN      0   \n",
       "890  Phillips, Miss. Kate Florence (\"Mrs Kate Louis...  female  19.0      0   \n",
       "\n",
       "     Parch  Ticket     Fare Cabin Embarked  \n",
       "886      0  237736  30.0708   NaN        C  \n",
       "887      0    2669   7.2292   NaN        C  \n",
       "888      0  315084   8.6625   NaN        S  \n",
       "889      0  349215   7.8958   NaN        S  \n",
       "890      0  250655  26.0000   NaN        S  "
      ]
     },
     "metadata": {},
     "output_type": "display_data"
    }
   ],
   "source": [
    "# afficher les 5 dernières lignes\n",
    "display(data.tail())"
   ]
  },
  {
   "cell_type": "code",
   "execution_count": 6,
   "id": "b8b37f2a",
   "metadata": {},
   "outputs": [],
   "source": [
    "#suppression des variables initules\n",
    "data1=data.drop(['PassengerId',  'Name',   'SibSp',\n",
    "       'Parch', 'Ticket', 'Fare', 'Cabin', 'Embarked'],axis=1)"
   ]
  },
  {
   "cell_type": "markdown",
   "id": "ef64c065",
   "metadata": {},
   "source": [
    "### Caractéristiques globales du data frame"
   ]
  },
  {
   "cell_type": "code",
   "execution_count": 7,
   "id": "9195b4de",
   "metadata": {},
   "outputs": [
    {
     "name": "stdout",
     "output_type": "stream",
     "text": [
      "Le dataset compte 891 lignes et 4 variables\n"
     ]
    }
   ],
   "source": [
    "# Combien de lignes comportent un data frame ? Et combien de colonnes ?\n",
    "dim = data1.shape\n",
    "print (\"Le dataset compte {} lignes et {} variables\".format(dim[0], dim[1]))\n",
    "#print(dim[0]) # \n",
    "#print(dim[1]) # "
   ]
  },
  {
   "cell_type": "code",
   "execution_count": 16,
   "id": "4c061f52",
   "metadata": {},
   "outputs": [
    {
     "data": {
      "text/plain": [
       "Survived     object\n",
       "Pclass        int64\n",
       "Sex          object\n",
       "Age         float64\n",
       "dtype: object"
      ]
     },
     "execution_count": 16,
     "metadata": {},
     "output_type": "execute_result"
    }
   ],
   "source": [
    "#connaître les types de chacune de nos variables\n",
    "data1.dtypes"
   ]
  },
  {
   "cell_type": "code",
   "execution_count": 17,
   "id": "70ecd74a",
   "metadata": {},
   "outputs": [
    {
     "name": "stdout",
     "output_type": "stream",
     "text": [
      "<class 'pandas.core.frame.DataFrame'>\n",
      "RangeIndex: 891 entries, 0 to 890\n",
      "Data columns (total 4 columns):\n",
      " #   Column    Non-Null Count  Dtype  \n",
      "---  ------    --------------  -----  \n",
      " 0   Survived  891 non-null    object \n",
      " 1   Pclass    891 non-null    int64  \n",
      " 2   Sex       891 non-null    object \n",
      " 3   Age       714 non-null    float64\n",
      "dtypes: float64(1), int64(1), object(2)\n",
      "memory usage: 28.0+ KB\n",
      "None\n"
     ]
    }
   ],
   "source": [
    "print(data1.info())"
   ]
  },
  {
   "cell_type": "code",
   "execution_count": 18,
   "id": "3bb51abc",
   "metadata": {
    "scrolled": true
   },
   "outputs": [
    {
     "data": {
      "text/plain": [
       "Survived     0.00000\n",
       "Pclass       0.00000\n",
       "Sex          0.00000\n",
       "Age         19.86532\n",
       "dtype: float64"
      ]
     },
     "execution_count": 18,
     "metadata": {},
     "output_type": "execute_result"
    }
   ],
   "source": [
    "# pourcentage de valeurs manquante\n",
    "(data1.isnull().sum() / data1.shape[0])*100"
   ]
  },
  {
   "cell_type": "code",
   "execution_count": 19,
   "id": "ab1e117d",
   "metadata": {},
   "outputs": [],
   "source": [
    "# nous constatons que seul la variable age a des données manquantes et qui repressante 19%"
   ]
  },
  {
   "cell_type": "code",
   "execution_count": 20,
   "id": "17e2afb5",
   "metadata": {},
   "outputs": [
    {
     "data": {
      "text/plain": [
       "29.69911764705882"
      ]
     },
     "execution_count": 20,
     "metadata": {},
     "output_type": "execute_result"
    }
   ],
   "source": [
    "data1['Age'].mean()"
   ]
  },
  {
   "cell_type": "code",
   "execution_count": 21,
   "id": "64ad1d75",
   "metadata": {},
   "outputs": [
    {
     "data": {
      "text/plain": [
       "0    24.0\n",
       "dtype: float64"
      ]
     },
     "execution_count": 21,
     "metadata": {},
     "output_type": "execute_result"
    }
   ],
   "source": [
    "data1['Age'].mode()"
   ]
  },
  {
   "cell_type": "code",
   "execution_count": 22,
   "id": "e1cfe8fd",
   "metadata": {},
   "outputs": [
    {
     "data": {
      "text/plain": [
       "28.0"
      ]
     },
     "execution_count": 22,
     "metadata": {},
     "output_type": "execute_result"
    }
   ],
   "source": [
    "data1['Age'].median()"
   ]
  },
  {
   "cell_type": "code",
   "execution_count": 23,
   "id": "221c4512",
   "metadata": {},
   "outputs": [
    {
     "name": "stdout",
     "output_type": "stream",
     "text": [
      "           Pclass         Age\n",
      "count  891.000000  714.000000\n",
      "mean     2.308642   29.699118\n",
      "std      0.836071   14.526497\n",
      "min      1.000000    0.420000\n",
      "25%      2.000000   20.125000\n",
      "50%      3.000000   28.000000\n",
      "75%      3.000000   38.000000\n",
      "max      3.000000   80.000000\n"
     ]
    }
   ],
   "source": [
    "print(data1.describe())"
   ]
  },
  {
   "cell_type": "code",
   "execution_count": 24,
   "id": "9b0310da",
   "metadata": {},
   "outputs": [
    {
     "name": "stderr",
     "output_type": "stream",
     "text": [
      "C:\\Users\\user\\anaconda3\\lib\\site-packages\\seaborn\\_decorators.py:36: FutureWarning: Pass the following variable as a keyword arg: x. From version 0.12, the only valid positional argument will be `data`, and passing other arguments without an explicit keyword will result in an error or misinterpretation.\n",
      "  warnings.warn(\n"
     ]
    },
    {
     "data": {
      "text/plain": [
       "<AxesSubplot:xlabel='Age'>"
      ]
     },
     "execution_count": 24,
     "metadata": {},
     "output_type": "execute_result"
    },
    {
     "data": {
      "image/png": "[encoded data removed]",
      "text/plain": [
       "<Figure size 432x288 with 1 Axes>"
      ]
     },
     "metadata": {
      "needs_background": "light"
     },
     "output_type": "display_data"
    }
   ],
   "source": [
    "import seaborn as sns \n",
    "#On affiche le boxplot associé à la variable\n",
    "sns.boxplot(data1['Age'])\n"
   ]
  },
  {
   "cell_type": "code",
   "execution_count": 25,
   "id": "b2e44451",
   "metadata": {},
   "outputs": [],
   "source": [
    "# Replace missing values with mean\n",
    "data1['Age'].fillna(data1['Age'].median(), inplace=True)"
   ]
  },
  {
   "cell_type": "code",
   "execution_count": 26,
   "id": "3014c645",
   "metadata": {},
   "outputs": [
    {
     "name": "stdout",
     "output_type": "stream",
     "text": [
      "           Pclass         Age\n",
      "count  891.000000  891.000000\n",
      "mean     2.308642   29.361582\n",
      "std      0.836071   13.019697\n",
      "min      1.000000    0.420000\n",
      "25%      2.000000   22.000000\n",
      "50%      3.000000   28.000000\n",
      "75%      3.000000   35.000000\n",
      "max      3.000000   80.000000\n"
     ]
    }
   ],
   "source": [
    "print(data1.describe())"
   ]
  },
  {
   "cell_type": "code",
   "execution_count": 27,
   "id": "6879e9f2",
   "metadata": {},
   "outputs": [],
   "source": [
    "#On supprime les valeurs aberrantes\n",
    "#On calcule Q1\n",
    "q1=data1[\"Age\"].quantile(q=0.25)\n",
    "#On calcule Q3\n",
    "q3=data1[\"Age\"].quantile(q=0.75)\n",
    "#On calcule l'écart interquartile (IQR)\n",
    "IQR=q3-q1\n",
    "#On calcule la borne inférieure à l'aide du Q1 et de l'écart interquartile\n",
    "borne_inf = q1-1.5*IQR\n",
    "#On calcule la borne supérieure à l'aide du Q3 et de l'écart interquartile\n",
    "borne_sup = q3 +1.5*IQR\n",
    "#On garde les valeurs à l'intérieur de la borne inférieure et supérieure\n",
    "data1= data1[data1[\"Age\"]<borne_sup]\n",
    "data1=data1[data1[\"Age\"]>borne_inf]\n"
   ]
  },
  {
   "cell_type": "code",
   "execution_count": 28,
   "id": "85101708",
   "metadata": {},
   "outputs": [
    {
     "name": "stderr",
     "output_type": "stream",
     "text": [
      "C:\\Users\\user\\anaconda3\\lib\\site-packages\\seaborn\\_decorators.py:36: FutureWarning: Pass the following variable as a keyword arg: x. From version 0.12, the only valid positional argument will be `data`, and passing other arguments without an explicit keyword will result in an error or misinterpretation.\n",
      "  warnings.warn(\n"
     ]
    },
    {
     "data": {
      "text/plain": [
       "<AxesSubplot:xlabel='Age'>"
      ]
     },
     "execution_count": 28,
     "metadata": {},
     "output_type": "execute_result"
    },
    {
     "data": {
      "image/png": "[encoded data removed]",
      "text/plain": [
       "<Figure size 432x288 with 1 Axes>"
      ]
     },
     "metadata": {
      "needs_background": "light"
     },
     "output_type": "display_data"
    }
   ],
   "source": [
    "sns.boxplot(data1['Age'])"
   ]
  },
  {
   "cell_type": "code",
   "execution_count": 29,
   "id": "7ac14023",
   "metadata": {},
   "outputs": [
    {
     "name": "stdout",
     "output_type": "stream",
     "text": [
      "           Pclass         Age\n",
      "count  825.000000  825.000000\n",
      "mean     2.341818   28.515152\n",
      "std      0.824096   10.177256\n",
      "min      1.000000    3.000000\n",
      "25%      2.000000   22.000000\n",
      "50%      3.000000   28.000000\n",
      "75%      3.000000   34.000000\n",
      "max      3.000000   54.000000\n"
     ]
    }
   ],
   "source": [
    "print(data1.describe())"
   ]
  },
  {
   "cell_type": "code",
   "execution_count": 37,
   "id": "ffac7ace",
   "metadata": {},
   "outputs": [],
   "source": [
    "cleanup_sex={\"Sex\":{\"male\":0, \"female\":1}}"
   ]
  },
  {
   "cell_type": "code",
   "execution_count": 38,
   "id": "a0f7720b",
   "metadata": {},
   "outputs": [],
   "source": [
    "cleanup_Survived={\"Survived\":{\"No\":0, \"Yes\":1}}"
   ]
  },
  {
   "cell_type": "code",
   "execution_count": 39,
   "id": "c8d8a6ba",
   "metadata": {},
   "outputs": [],
   "source": [
    "data1.replace(cleanup_sex, inplace=True)"
   ]
  },
  {
   "cell_type": "code",
   "execution_count": 40,
   "id": "649165b3",
   "metadata": {},
   "outputs": [],
   "source": [
    "data1.replace(cleanup_Survived, inplace=True)"
   ]
  },
  {
   "cell_type": "code",
   "execution_count": 41,
   "id": "63d021f4",
   "metadata": {},
   "outputs": [
    {
     "data": {
      "text/html": [
       "<div>\n",
       "<style scoped>\n",
       "    .dataframe tbody tr th:only-of-type {\n",
       "        vertical-align: middle;\n",
       "    }\n",
       "\n",
       "    .dataframe tbody tr th {\n",
       "        vertical-align: top;\n",
       "    }\n",
       "\n",
       "    .dataframe thead th {\n",
       "        text-align: right;\n",
       "    }\n",
       "</style>\n",
       "<table border=\"1\" class=\"dataframe\">\n",
       "  <thead>\n",
       "    <tr style=\"text-align: right;\">\n",
       "      <th></th>\n",
       "      <th>Survived</th>\n",
       "      <th>Pclass</th>\n",
       "      <th>Sex</th>\n",
       "      <th>Age</th>\n",
       "    </tr>\n",
       "  </thead>\n",
       "  <tbody>\n",
       "    <tr>\n",
       "      <th>0</th>\n",
       "      <td>0</td>\n",
       "      <td>2</td>\n",
       "      <td>0</td>\n",
       "      <td>28.0</td>\n",
       "    </tr>\n",
       "    <tr>\n",
       "      <th>1</th>\n",
       "      <td>0</td>\n",
       "      <td>3</td>\n",
       "      <td>0</td>\n",
       "      <td>25.0</td>\n",
       "    </tr>\n",
       "    <tr>\n",
       "      <th>2</th>\n",
       "      <td>0</td>\n",
       "      <td>3</td>\n",
       "      <td>0</td>\n",
       "      <td>20.0</td>\n",
       "    </tr>\n",
       "    <tr>\n",
       "      <th>3</th>\n",
       "      <td>0</td>\n",
       "      <td>3</td>\n",
       "      <td>1</td>\n",
       "      <td>29.0</td>\n",
       "    </tr>\n",
       "    <tr>\n",
       "      <th>4</th>\n",
       "      <td>0</td>\n",
       "      <td>1</td>\n",
       "      <td>0</td>\n",
       "      <td>31.0</td>\n",
       "    </tr>\n",
       "    <tr>\n",
       "      <th>...</th>\n",
       "      <td>...</td>\n",
       "      <td>...</td>\n",
       "      <td>...</td>\n",
       "      <td>...</td>\n",
       "    </tr>\n",
       "    <tr>\n",
       "      <th>886</th>\n",
       "      <td>1</td>\n",
       "      <td>2</td>\n",
       "      <td>1</td>\n",
       "      <td>14.0</td>\n",
       "    </tr>\n",
       "    <tr>\n",
       "      <th>887</th>\n",
       "      <td>0</td>\n",
       "      <td>3</td>\n",
       "      <td>0</td>\n",
       "      <td>22.0</td>\n",
       "    </tr>\n",
       "    <tr>\n",
       "      <th>888</th>\n",
       "      <td>0</td>\n",
       "      <td>3</td>\n",
       "      <td>1</td>\n",
       "      <td>30.0</td>\n",
       "    </tr>\n",
       "    <tr>\n",
       "      <th>889</th>\n",
       "      <td>0</td>\n",
       "      <td>3</td>\n",
       "      <td>0</td>\n",
       "      <td>28.0</td>\n",
       "    </tr>\n",
       "    <tr>\n",
       "      <th>890</th>\n",
       "      <td>1</td>\n",
       "      <td>2</td>\n",
       "      <td>1</td>\n",
       "      <td>19.0</td>\n",
       "    </tr>\n",
       "  </tbody>\n",
       "</table>\n",
       "<p>825 rows × 4 columns</p>\n",
       "</div>"
      ],
      "text/plain": [
       "     Survived  Pclass  Sex   Age\n",
       "0           0       2    0  28.0\n",
       "1           0       3    0  25.0\n",
       "2           0       3    0  20.0\n",
       "3           0       3    1  29.0\n",
       "4           0       1    0  31.0\n",
       "..        ...     ...  ...   ...\n",
       "886         1       2    1  14.0\n",
       "887         0       3    0  22.0\n",
       "888         0       3    1  30.0\n",
       "889         0       3    0  28.0\n",
       "890         1       2    1  19.0\n",
       "\n",
       "[825 rows x 4 columns]"
      ]
     },
     "execution_count": 41,
     "metadata": {},
     "output_type": "execute_result"
    }
   ],
   "source": [
    "data1"
   ]
  },
  {
   "cell_type": "code",
   "execution_count": 42,
   "id": "d5e9a3c2",
   "metadata": {},
   "outputs": [],
   "source": [
    "# Step 6: Saving the cleaned data\n",
    "data1.to_csv(\"cleaned_titanic.csv\", index=False)"
   ]
  },
  {
   "cell_type": "code",
   "execution_count": null,
   "id": "8212a0a9",
   "metadata": {},
   "outputs": [],
   "source": []
  }
 ],
 "metadata": {
  "kernelspec": {
   "display_name": "Python 3 (ipykernel)",
   "language": "python",
   "name": "python3"
  },
  "language_info": {
   "codemirror_mode": {
    "name": "ipython",
    "version": 3
   },
   "file_extension": ".py",
   "mimetype": "text/x-python",
   "name": "python",
   "nbconvert_exporter": "python",
   "pygments_lexer": "ipython3",
   "version": "3.9.7"
  }
 },
 "nbformat": 4,
 "nbformat_minor": 5
}
