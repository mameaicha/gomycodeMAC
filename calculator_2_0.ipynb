{
  "nbformat": 4,
  "nbformat_minor": 0,
  "metadata": {
    "colab": {
      "provenance": [],
      "authorship_tag": "ABX9TyNbjWDZ10eZyxQ85XI60wl7",
      "include_colab_link": true
    },
    "kernelspec": {
      "name": "python3",
      "display_name": "Python 3"
    },
    "language_info": {
      "name": "python"
    }
  },
  "cells": [
    {
      "cell_type": "markdown",
      "metadata": {
        "id": "view-in-github",
        "colab_type": "text"
      },
      "source": [
        "<a href=\"https://colab.research.google.com/github/mameaicha/gomycodeMAC/blob/main/calculator_2_0.ipynb\" target=\"_parent\"><img src=\"https://colab.research.google.com/assets/colab-badge.svg\" alt=\"Open In Colab\"/></a>"
      ]
    },
    {
      "cell_type": "markdown",
      "source": [
        "1. Create a new file called \"calculator_2.0.py\""
      ],
      "metadata": {
        "id": "ul8QATZlrom4"
      }
    },
    {
      "cell_type": "markdown",
      "source": [
        "2. Create a class called \"Calculator\""
      ],
      "metadata": {
        "id": "RWTpf3bEruhl"
      }
    },
    {
      "cell_type": "code",
      "execution_count": 5,
      "metadata": {
        "id": "6jxNeY1pI4ZC"
      },
      "outputs": [],
      "source": [
        "class Calculator :\n",
        "  operations={}\n",
        "  def __init__(self):\n",
        "    self.operations['+']= lambda x, y: x + y\n",
        "    self.operations['-']= lambda x, y: x - y\n",
        "    self.operations['*']= lambda x, y: x * y\n",
        "    self.operations['/']= lambda x, y: x / y\n",
        "    \n",
        "  \n",
        "  def add_operation(self, symbole, fonction):\n",
        "        self.operations[symbole] = fonction\n",
        "    \n",
        "  def calculate(self, x, symbole, y):\n",
        "    if not isinstance(x, (int, float)) or not isinstance(y, (int, float)):\n",
        "      raise ValueError('Les valeurs d\\'entrée doivent être des nombres.')\n",
        "    if symbole not in self.operations:\n",
        "      raise ValueError('Symbole d\\'opération non valide.')\n",
        "    fonction = self.operations[symbole]\n",
        "    return fonction(x, y)\n",
        "  \n",
        "  \n",
        "\n",
        "\n",
        "    "
      ]
    },
    {
      "cell_type": "markdown",
      "source": [
        "3. Create separate functions for the advanced mathematical operations (exponentiation, square root, logarithm) and use the \"add_operation\" method to add them to the calculator's dictionary."
      ],
      "metadata": {
        "id": "9IM9OmFwsR7c"
      }
    },
    {
      "cell_type": "code",
      "source": [
        "import math\n",
        "\n",
        "def expo(x):\n",
        "    return math.exp(x)\n",
        "\n",
        "def sqrt(x):\n",
        "    return math.sqrt(x)\n",
        "\n",
        "def loga(x, base=10):\n",
        "    return math.log(x, base)\n",
        "\n",
        "calculator = Calculator()\n",
        "calculator.add_operation(\"exp\", expo)\n",
        "calculator.add_operation(\"sqrt\", sqrt)\n",
        "calculator.add_operation(\"log\", loga)"
      ],
      "metadata": {
        "id": "M4ObE7SfscwI"
      },
      "execution_count": 6,
      "outputs": []
    },
    {
      "cell_type": "markdown",
      "source": [
        "main program"
      ],
      "metadata": {
        "id": "ohwdgEnFKcFk"
      }
    },
    {
      "cell_type": "code",
      "source": [
        "while True:\n",
        "    try:\n",
        "        x = float(input(\"Entrez le premier nombre : \"))\n",
        "        symbol = input(\"Entrez l'opération (+, -, *, /, exp, sqrt, log) : \")\n",
        "        y = float(input(\"Entrez le deuxième nombre : \"))\n",
        "        result = calculator.calculate(x, symbol, y)\n",
        "        print(\"Résultat : \", result)\n",
        "    except Exception as e:\n",
        "        print(\"Erreur :\", e)\n",
        "    \n",
        "    choice = input(\"Voulez-vous continuer (O/N) ? \")\n",
        "    if choice.lower() == \"n\":\n",
        "        break\n"
      ],
      "metadata": {
        "id": "OFnn5UJ-Kcfm",
        "colab": {
          "base_uri": "https://localhost:8080/"
        },
        "outputId": "8fc75048-ef91-4c99-9a98-fc16cab4a050"
      },
      "execution_count": 7,
      "outputs": [
        {
          "name": "stdout",
          "output_type": "stream",
          "text": [
            "Entrez le premier nombre : 10\n",
            "Entrez l'opération (+, -, *, /, exp, sqrt, log) : +\n",
            "Entrez le deuxième nombre : 3\n",
            "Résultat :  13.0\n",
            "Voulez-vous continuer (O/N) ? o\n",
            "Entrez le premier nombre : 1\n",
            "Entrez l'opération (+, -, *, /, exp, sqrt, log) : -\n",
            "Entrez le deuxième nombre : 3\n",
            "Résultat :  -2.0\n",
            "Voulez-vous continuer (O/N) ? n\n"
          ]
        }
      ]
    }
  ]
}