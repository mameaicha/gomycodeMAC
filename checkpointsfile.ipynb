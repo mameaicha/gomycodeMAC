{
 "cells": [
  {
   "cell_type": "markdown",
   "id": "49e988f5",
   "metadata": {},
   "source": [
    "1. Begin by importing the necessary libraries, numpy."
   ]
  },
  {
   "cell_type": "code",
   "execution_count": 1,
   "id": "27eaaeb9",
   "metadata": {},
   "outputs": [],
   "source": [
    "import numpy as np"
   ]
  },
  {
   "cell_type": "markdown",
   "id": "9ceee02e",
   "metadata": {},
   "source": [
    "2. Use the open() function to open the lending_company.csv file and assign the result to a variable"
   ]
  },
  {
   "cell_type": "code",
   "execution_count": 15,
   "id": "7a9d549f",
   "metadata": {},
   "outputs": [
    {
     "name": "stdout",
     "output_type": "stream",
     "text": [
      "[[      nan       nan       nan ...       nan       nan       nan]\n",
      " [1.000e+00       nan       nan ...       nan       nan 1.660e+04]\n",
      " [2.000e+00       nan       nan ...       nan       nan 1.660e+04]\n",
      " ...\n",
      " [1.041e+03       nan       nan ...       nan       nan 1.660e+04]\n",
      " [1.042e+03       nan       nan ...       nan       nan 1.560e+04]\n",
      " [1.043e+03       nan       nan ...       nan       nan 1.660e+04]]\n"
     ]
    }
   ],
   "source": [
    "#ouverture, lecture et transformation en array du fichier\n",
    "fic=open('LendingCompanySaving.csv',\"r\")\n",
    "data=np.genfromtxt(fic, delimiter=',')\n",
    "print(data)"
   ]
  },
  {
   "cell_type": "code",
   "execution_count": 12,
   "id": "d4a20925",
   "metadata": {},
   "outputs": [
    {
     "name": "stdout",
     "output_type": "stream",
     "text": [
      "[16600. 16600. 15600. ... 16600. 15600. 16600.]\n"
     ]
    }
   ],
   "source": [
    "#suppression des donnees manquantes\n",
    "data1=data[:,1:] # enleve la premiere colone\n",
    "data2 = data1[~np.isnan(data1)]\n",
    "print(data2)"
   ]
  },
  {
   "cell_type": "markdown",
   "id": "5060d407",
   "metadata": {},
   "source": [
    "3. Use the numpy array to perform some basic statistical analysis on the data, such as finding the mean, median, and standard deviation of the loan amounts."
   ]
  },
  {
   "cell_type": "code",
   "execution_count": 14,
   "id": "42fe74d3",
   "metadata": {},
   "outputs": [
    {
     "name": "stdout",
     "output_type": "stream",
     "text": [
      "mean= 19082.801766437686\n",
      "median= 16600.0\n",
      "std= 5901.441227637108\n"
     ]
    }
   ],
   "source": [
    "mean=np.mean(data2)\n",
    "print(\"mean=\",mean)\n",
    "median= np.median(data2)\n",
    "print(\"median=\",median)\n",
    "stDeviation=np.std(data2)\n",
    "print(\"std=\",stDeviation)"
   ]
  },
  {
   "cell_type": "code",
   "execution_count": null,
   "id": "e437c69f",
   "metadata": {},
   "outputs": [],
   "source": []
  }
 ],
 "metadata": {
  "kernelspec": {
   "display_name": "Python 3 (ipykernel)",
   "language": "python",
   "name": "python3"
  },
  "language_info": {
   "codemirror_mode": {
    "name": "ipython",
    "version": 3
   },
   "file_extension": ".py",
   "mimetype": "text/x-python",
   "name": "python",
   "nbconvert_exporter": "python",
   "pygments_lexer": "ipython3",
   "version": "3.9.7"
  }
 },
 "nbformat": 4,
 "nbformat_minor": 5
}
