{
  "nbformat": 4,
  "nbformat_minor": 0,
  "metadata": {
    "colab": {
      "provenance": [],
      "authorship_tag": "ABX9TyN3lI+KnZVudD/Zwd1rk00V",
      "include_colab_link": true
    },
    "kernelspec": {
      "name": "python3",
      "display_name": "Python 3"
    },
    "language_info": {
      "name": "python"
    }
  },
  "cells": [
    {
      "cell_type": "markdown",
      "metadata": {
        "id": "view-in-github",
        "colab_type": "text"
      },
      "source": [
        "<a href=\"https://colab.research.google.com/github/mameaicha/gomycodeMAC/blob/main/exo_ancienCheckPoint.ipynb\" target=\"_parent\"><img src=\"https://colab.research.google.com/assets/colab-badge.svg\" alt=\"Open In Colab\"/></a>"
      ]
    },
    {
      "cell_type": "code",
      "execution_count": 7,
      "metadata": {
        "id": "3PS6DyhklA4Z"
      },
      "outputs": [],
      "source": [
        "def PythonPizza():\n",
        "  #mot de bienvenue\n",
        "  print(\"Welcome to Python Pizza Deliverys\")\n",
        "  factFin=0   #initialisation de la facture à 0\n",
        "  #enregistrement de la commande \n",
        "  size = str(input(\" Veillez saisir  la taille de pizza souhaitée  entre L, M ou X:\"))\n",
        "  if size.upper==\"L\":\n",
        "    print( \" vous avez choisis Petite Pizza à 15$ \")\n",
        "    factFin=factFin+15\n",
        "  elif size.upper== \"M\":\n",
        "    print(\" vous avez choisis Pizza Moyenne à 20$ \")\n",
        "    factFin=factFin+20\n",
        "  elif size.upper== \"X\":\n",
        "    print( \"vous avez choisis Grande Pizza à 25$ \")\n",
        "    factFin=factFin+25\n",
        "\n",
        "  add_pepperoni =  input(\" Voudriez vous  du pepperoni sur votre pizza ? O ou N ?\")\n",
        "  if add_pepperoni.upper==\"O\" :\n",
        "    if size== \"L\":\n",
        "      print(\"nous ajoutons du pepperoni pour 2$ suplementaire\")\n",
        "      factFin=factFin+2\n",
        "    else:\n",
        "      print(\"nous ajoutons du pepperoni pour 3$ suplementaire\")\n",
        "      factFin=factFin+3\n",
        "  else:\n",
        "    print(\"ok pas de pepperoni\")\n",
        "\n",
        "  extra_fromage = input(\" Voudriez vous  un suplement de fromage?\")\n",
        "  if extra_fromage.upper == \"O\" :\n",
        "    print(\"nous ajoutons du fromage pour 1$ suplementaire\")\n",
        "    factFin=factFin+1\n",
        "  else:\n",
        "    print(\"ok pas de fromage suplementaire\")\n",
        "  print(\"votre facture finale s eleve à :\", factFin)"
      ]
    },
    {
      "cell_type": "code",
      "source": [
        "PythonPizza()"
      ],
      "metadata": {
        "colab": {
          "base_uri": "https://localhost:8080/"
        },
        "id": "lu1e7lt13ZF6",
        "outputId": "6d27129d-6c85-452a-e0dc-7d48dfdfc5fa"
      },
      "execution_count": 6,
      "outputs": [
        {
          "output_type": "stream",
          "name": "stdout",
          "text": [
            "Welcome to Python Pizza Deliverys\n",
            " Veillez saisir  la taille de pizza souhaitée  entre L, M ou X:L\n",
            " vous avez choisis Petite Pizza à 15$ \n",
            " Voudriez vous  du pepperoni sur votre pizza ? O ou N ?N\n",
            "ok pas de pepperoni\n",
            " Voudriez vous  un suplement de fromage?N\n",
            "ok pas de fromage suplementaire\n",
            "votre facture finale s eleve à : 15\n"
          ]
        }
      ]
    },
    {
      "cell_type": "code",
      "source": [
        "\n",
        "\n",
        "def ajoutListe(L):\n",
        "  \"\"\"ajout elements dans une liste\"\"\"\n",
        "  print(\"\")\n",
        "  e= input(\" saisir un élément à ajouter de la liste et tapper ok pour signaler la fin de la saisie:\")\n",
        "  while(e!=\"ok\"):\n",
        "    L.append(e)\n",
        "    e= input(\" saisir un élément  à ajouter de la liste et tapper ok pour signaler la fin de la saisie:\")\n",
        "  print(\"fin saisie\")\n",
        "  return(L)\n",
        "\n",
        "\n",
        "def testPresence(x,L):\n",
        "  \"\"\"test la presence d'un élement dans une liste\"\"\"\n",
        "  ok=False\n",
        "  for i, elt in enumerate(L):\n",
        "    if x==elt:\n",
        "      ok=True\n",
        "  return ok\n",
        "\n",
        "def supprimListe(L):\n",
        "  e= input(\" saisir un élément à supprimer de la liste et tapper ok pour signaler la fin de la saisie:\")\n",
        "  while(e!=\"ok\"):\n",
        "    if testPresence(e,L)== True:\n",
        "      L.pop(e)\n",
        "      print(\"l'element \",e ,\"a ete supprimer\")\n",
        "    else:\n",
        "      print(\"l element saisit ne figure pas dans la liste\")\n",
        "    e= input(\" saisir un élément à supprimer de la liste et tapper ok pour signaler la fin de la saisie:\")\n",
        "  print(\"fin suppression\")\n",
        "  return(L)\n",
        "  \n",
        "\n",
        "def afficheListe(L):\n",
        "  for i in range(0,len(L)):\n",
        "    print(L[i], end = \" \")\n",
        "\n",
        "def ListCours():\n",
        "  shopping_list=[]\n",
        "  print(\"bienvenue dans votre programme de gestion de liste des courses qui vous permettra d'ajouter, de supprimer ou d'afficher des éléments de la liste\")\n",
        "  print(\"au menu vous avez : \\n A: pour ajouter un element à votre liste \\n S: pour supprimer \\n D: pour afficher la liste \")\n",
        "  op = str(input(\"Veillez choisir votre option (A,S ou D)? \"))\n",
        "  while  (op.upper != \"A\" and op.upper != \"S\" and op.upper !=\"D\" ):\n",
        "    op=input(\"ERREUR  vous n'avez pas choisi la bonne option\\nVeillez choisir entre A,S,D\")\n",
        "  if op.upper == \"A\":\n",
        "    ajoutListe(shopping_list)\n",
        "  elif op.upper == \"S\":\n",
        "    supprimListe(shopping_list)\n",
        "  else:\n",
        "    afficheListe(shopping_list)\n",
        "\n",
        "\n"
      ],
      "metadata": {
        "id": "aX73AKNW406U"
      },
      "execution_count": 21,
      "outputs": []
    }
  ]
}