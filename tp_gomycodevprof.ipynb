{
  "nbformat": 4,
  "nbformat_minor": 0,
  "metadata": {
    "colab": {
      "provenance": [],
      "authorship_tag": "ABX9TyMXbnHZPeV88F/PTzOOJddV",
      "include_colab_link": true
    },
    "kernelspec": {
      "name": "python3",
      "display_name": "Python 3"
    },
    "language_info": {
      "name": "python"
    }
  },
  "cells": [
    {
      "cell_type": "markdown",
      "metadata": {
        "id": "view-in-github",
        "colab_type": "text"
      },
      "source": [
        "<a href=\"https://colab.research.google.com/github/mameaicha/gomycodeMAC/blob/main/tp_gomycodevprof.ipynb\" target=\"_parent\"><img src=\"https://colab.research.google.com/assets/colab-badge.svg\" alt=\"Open In Colab\"/></a>"
      ]
    },
    {
      "cell_type": "code",
      "source": [
        "def combineDico(d1,d2):\n",
        "    d=d1\n",
        "    for cle in d2.keys():\n",
        "        if cle in d1:\n",
        "            d[cle]= d1[cle]+d2[cle]\n",
        "        else:\n",
        "            d[cle]=d2[cle]\n",
        "    return d\n",
        "\n",
        "d1 = {'a': 100, 'b': 200, 'c':300}\n",
        "d2 = {'a': 300, 'b': 200, 'd':400}\n",
        "\n",
        "combineDico(d1,d2)"
      ],
      "metadata": {
        "id": "Iu-1wN2Vmr9O"
      },
      "execution_count": null,
      "outputs": []
    },
    {
      "cell_type": "code",
      "source": [
        "def mulAllItems(L):\n",
        "    s=1\n",
        "    for i in range(0,len(L)):\n",
        "        s=s*L[i]\n",
        "    return s\n",
        "\n",
        "list=[2, 3, 6]\n",
        "mulAllItems(list)"
      ],
      "metadata": {
        "id": "M9xk1yfqmMXj"
      },
      "execution_count": null,
      "outputs": []
    },
    {
      "cell_type": "code",
      "execution_count": 1,
      "metadata": {
        "colab": {
          "base_uri": "https://localhost:8080/"
        },
        "id": "DDOeiZjGHhnu",
        "outputId": "25172cad-2863-4a87-c6d4-29491948c26b"
      },
      "outputs": [
        {
          "output_type": "stream",
          "name": "stdout",
          "text": [
            "les coordonnees du point sont: (1, 2, 3)\n"
          ]
        }
      ],
      "source": [
        "class Point3D:\n",
        "  def __init__(self,x,y,z):\n",
        "    self.x=x\n",
        "    self.y=y\n",
        "    self.z=z\n",
        "\n",
        "  def renvoiCoordonnees(self):\n",
        "    print('les coordonnees du point sont:',(self.x,self.y,self.z))\n",
        "\n",
        "my_point=Point3D(1,2,3)\n",
        "my_point.renvoiCoordonnees()"
      ]
    },
    {
      "cell_type": "code",
      "source": [
        "class rectangle:\n",
        "  def __init__(self,longu,larg):\n",
        "    self.longu=longu\n",
        "    self.larg=larg\n",
        "\n",
        "  def aire(self):\n",
        "    a=self.longu*self.larg\n",
        "    print(\"l'aire du rectangle est egale a:\", a)\n",
        "\n",
        "  def perimetre(self):\n",
        "    p=(self.longu+self.larg)*2\n",
        "    print(\"le perimetre du rectangle est egale a:\", p)\n",
        "\n",
        "my_rectangle=rectangle(4,3)\n",
        "my_rectangle.aire\n",
        "my_rectangle.perimetre\n"
      ],
      "metadata": {
        "colab": {
          "base_uri": "https://localhost:8080/"
        },
        "id": "8So5pxXMdNRE",
        "outputId": "36120c02-5b9a-4626-cea1-64c5be7da097"
      },
      "execution_count": 3,
      "outputs": [
        {
          "output_type": "execute_result",
          "data": {
            "text/plain": [
              "<bound method rectangle.perimetre of <__main__.rectangle object at 0x7fdec10a6b20>>"
            ]
          },
          "metadata": {},
          "execution_count": 3
        }
      ]
    },
    {
      "cell_type": "code",
      "source": [
        "def Maxi(a,b,c):\n",
        "  \"\"\"find the Max of three numbers.\"\"\"\n",
        "  if a==b==c:\n",
        "      print(\"les trois nombres sont égaux\")\n",
        "  else:\n",
        "      if(a>=b):\n",
        "          if (b>=c):\n",
        "              maxi=a\n",
        "          elif (a>c):\n",
        "              maxi=a\n",
        "          else:\n",
        "              maxi=c\n",
        "      elif(a>c):\n",
        "          maxi=b\n",
        "      elif(b<c):\n",
        "          maxi=c\n",
        "      else:\n",
        "          maxi=b \n",
        "      print(\"le maximun est\",maxi)\n",
        "      return(maxi) #pour etre utiliser \n",
        "\n",
        "Maxi(1,2,3)"
      ],
      "metadata": {
        "colab": {
          "base_uri": "https://localhost:8080/"
        },
        "id": "8Xn9BpTanknA",
        "outputId": "d0683f5f-9581-4ab3-ad58-b77403495e8b"
      },
      "execution_count": 6,
      "outputs": [
        {
          "output_type": "stream",
          "name": "stdout",
          "text": [
            "le maximun est 3\n"
          ]
        },
        {
          "output_type": "execute_result",
          "data": {
            "text/plain": [
              "3"
            ]
          },
          "metadata": {},
          "execution_count": 6
        }
      ]
    },
    {
      "cell_type": "markdown",
      "source": [
        "Write a function calculation() such that it can accept two variables and calculate the addition and subtraction of it. And also it must return both addition and subtraction in a single return call. For example: calculation(40, 10) should produce 50, 30"
      ],
      "metadata": {
        "id": "iZSTEFtAogaB"
      }
    },
    {
      "cell_type": "code",
      "source": [
        "def calculation(a,b):\n",
        "    ad=a+b\n",
        "    sous=a-b\n",
        "    return ad,sous\n",
        "\n",
        "calculation(40,10)"
      ],
      "metadata": {
        "colab": {
          "base_uri": "https://localhost:8080/"
        },
        "id": "QFOg5yLYnyh6",
        "outputId": "8977dd5d-51c4-47bb-c34c-e394537f9374"
      },
      "execution_count": 5,
      "outputs": [
        {
          "output_type": "execute_result",
          "data": {
            "text/plain": [
              "(50, 30)"
            ]
          },
          "metadata": {},
          "execution_count": 5
        }
      ]
    }
  ]
}