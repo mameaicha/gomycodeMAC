{
  "cells": [
    {
      "cell_type": "markdown",
      "metadata": {
        "id": "view-in-github",
        "colab_type": "text"
      },
      "source": [
        "<a href=\"https://colab.research.google.com/github/mameaicha/gomycodeMAC/blob/main/tp_structure_gomycode.ipynb\" target=\"_parent\"><img src=\"https://colab.research.google.com/assets/colab-badge.svg\" alt=\"Open In Colab\"/></a>"
      ]
    },
    {
      "cell_type": "markdown",
      "id": "c5a1ad2d",
      "metadata": {
        "id": "c5a1ad2d"
      },
      "source": [
        "Question1: \n",
        "\n",
        "Write a Python program to multiplies all the items in a list.\n",
        "\n",
        "for example list=[2, 3, 6]\n",
        "\n",
        "result = 36"
      ]
    },
    {
      "cell_type": "code",
      "execution_count": null,
      "id": "593a8508",
      "metadata": {
        "id": "593a8508"
      },
      "outputs": [],
      "source": [
        "def mulAllItems(L):\n",
        "    s=1\n",
        "    for i in range(0,len(L)):\n",
        "        s=s*L[i]\n",
        "    return s\n",
        "\n",
        "    "
      ]
    },
    {
      "cell_type": "code",
      "execution_count": null,
      "id": "b4edee41",
      "metadata": {
        "id": "b4edee41"
      },
      "outputs": [],
      "source": [
        "list=[2, 3, 6]"
      ]
    },
    {
      "cell_type": "code",
      "execution_count": null,
      "id": "762554cd",
      "metadata": {
        "id": "762554cd",
        "outputId": "aee59b8f-5097-458a-e845-481f6fcd4d0a"
      },
      "outputs": [
        {
          "data": {
            "text/plain": [
              "36"
            ]
          },
          "execution_count": 11,
          "metadata": {},
          "output_type": "execute_result"
        }
      ],
      "source": [
        "mulAllItems(list)"
      ]
    },
    {
      "cell_type": "markdown",
      "id": "07a67efc",
      "metadata": {
        "id": "07a67efc"
      },
      "source": [
        "Question2\n",
        "\n",
        "Write a Python program to combine two dictionary adding values for common keys.\n",
        "\n",
        "d1 = {'a': 100, 'b': 200, 'c':300}\n",
        "\n",
        "d2 = {'a': 300, 'b': 200, 'd':400}\n",
        "\n",
        "Expected output: {'a': 400, 'b': 400, 'd': 400, 'c': 300}"
      ]
    },
    {
      "cell_type": "code",
      "execution_count": null,
      "id": "0df890b5",
      "metadata": {
        "id": "0df890b5"
      },
      "outputs": [],
      "source": [
        "def combineDico(d1,d2):\n",
        "    d=d1\n",
        "    for cle in d2.keys():\n",
        "        if cle in d1:\n",
        "            d[cle]= d1[cle]+d2[cle]\n",
        "        else:\n",
        "            d[cle]=d2[cle]\n",
        "    return d"
      ]
    },
    {
      "cell_type": "code",
      "execution_count": null,
      "id": "c9550c53",
      "metadata": {
        "id": "c9550c53"
      },
      "outputs": [],
      "source": [
        "d1 = {'a': 100, 'b': 200, 'c':300}\n",
        "d2 = {'a': 300, 'b': 200, 'd':400}\n"
      ]
    },
    {
      "cell_type": "code",
      "execution_count": null,
      "id": "49110d03",
      "metadata": {
        "id": "49110d03",
        "outputId": "5241508c-5f43-4d65-989d-105d3f4039ad"
      },
      "outputs": [
        {
          "data": {
            "text/plain": [
              "{'a': 400, 'b': 400, 'c': 300, 'd': 400}"
            ]
          },
          "execution_count": 6,
          "metadata": {},
          "output_type": "execute_result"
        }
      ],
      "source": [
        "combineDico(d1,d2)"
      ]
    },
    {
      "cell_type": "markdown",
      "source": [
        "Question 3\n",
        "\n",
        "Question: With a given integral number n, write a program to generate a dictionary that contains (i, i*i) such that is an integral number between 1 and n (both included). and then the program should print the dictionary. Suppose the following input is supplied to the program: 8 Then, the output should be: {1: 1, 2: 4, 3: 9, 4: 16, 5: 25, 6: 36, 7: 49, 8: 64}"
      ],
      "metadata": {
        "id": "iR83fHr_0yxF"
      },
      "id": "iR83fHr_0yxF"
    },
    {
      "cell_type": "code",
      "source": [
        "def carreDico(n):\n",
        "  dic={}\n",
        "  for i in range(1, n+1):\n",
        "    dic[i]=i*i\n",
        "  return(dic)\n"
      ],
      "metadata": {
        "id": "h-rVp8hG08nd"
      },
      "id": "h-rVp8hG08nd",
      "execution_count": 1,
      "outputs": []
    },
    {
      "cell_type": "code",
      "source": [
        "D=carreDico(8)\n",
        "print(D)"
      ],
      "metadata": {
        "colab": {
          "base_uri": "https://localhost:8080/"
        },
        "id": "0FhxjPx43QcP",
        "outputId": "f92efc6d-e376-4cc0-9a0e-f21c3dd0a823"
      },
      "id": "0FhxjPx43QcP",
      "execution_count": 2,
      "outputs": [
        {
          "output_type": "stream",
          "name": "stdout",
          "text": [
            "{1: 1, 2: 4, 3: 9, 4: 16, 5: 25, 6: 36, 7: 49, 8: 64}\n"
          ]
        }
      ]
    }
  ],
  "metadata": {
    "kernelspec": {
      "display_name": "Python 3 (ipykernel)",
      "language": "python",
      "name": "python3"
    },
    "language_info": {
      "codemirror_mode": {
        "name": "ipython",
        "version": 3
      },
      "file_extension": ".py",
      "mimetype": "text/x-python",
      "name": "python",
      "nbconvert_exporter": "python",
      "pygments_lexer": "ipython3",
      "version": "3.9.7"
    },
    "colab": {
      "provenance": [],
      "include_colab_link": true
    }
  },
  "nbformat": 4,
  "nbformat_minor": 5
}